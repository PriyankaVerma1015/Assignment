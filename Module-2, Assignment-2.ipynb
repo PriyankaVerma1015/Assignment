{
 "cells": [
  {
   "cell_type": "markdown",
   "metadata": {},
   "source": [
    "Solution-1"
   ]
  },
  {
   "cell_type": "code",
   "execution_count": 1,
   "metadata": {},
   "outputs": [
    {
     "name": "stdout",
     "output_type": "stream",
     "text": [
      "Enter the employee name: Priya\n",
      "Enter the employee salary: 30000\n",
      "employee_name: Priya and employee_salary: 30000\n"
     ]
    }
   ],
   "source": [
    "name = input(\"Enter the employee name: \")\n",
    "salary = int(input(\"Enter the employee salary: \"))\n",
    "class Employee:\n",
    "    def __init__(self, name, salary):\n",
    "        self.name = name\n",
    "        self.salary = salary\n",
    "        \n",
    "    def __str__(self):\n",
    "        return \"employee_name: {self.name} and employee_salary: {self.salary}\".format(self=self)\n",
    "\n",
    "\n",
    "employee = Employee(name, salary)\n",
    "print(str(employee))"
   ]
  },
  {
   "cell_type": "markdown",
   "metadata": {},
   "source": [
    "Solution-2.1"
   ]
  },
  {
   "cell_type": "code",
   "execution_count": 2,
   "metadata": {},
   "outputs": [
    {
     "name": "stdout",
     "output_type": "stream",
     "text": [
      "Enter the number12\n",
      "Enter the number12\n",
      "0. Exit\n",
      "1. Addition\n",
      "2. Substraction\n",
      "3. Multiplication\n",
      "4. Division\n",
      "Enter your function: 4\n",
      "Result:  1.0\n",
      "0. Exit\n",
      "1. Addition\n",
      "2. Substraction\n",
      "3. Multiplication\n",
      "4. Division\n",
      "Enter your function: 0\n",
      "Exiting!\n",
      "New number after performing operation 1.0\n"
     ]
    }
   ],
   "source": [
    "num1 = float(input(\"Enter the number\"))\n",
    "num2 = float(input(\"Enter the number\"))\n",
    "\n",
    "\n",
    "class Calculator:\n",
    "    def __init__(self, num1, num2):\n",
    "        self.num1 = num1\n",
    "        self.num2 = num2\n",
    "\n",
    "    def add(self):\n",
    "        return self.num1 + self.num2\n",
    "\n",
    "    def sub(self):\n",
    "        return self.num1 - self.num2\n",
    "\n",
    "    def mul(self):\n",
    "        return self.num1 * self.num2\n",
    "\n",
    "    def div(self):\n",
    "        return self.num1 / self.num2\n",
    "\n",
    "\n",
    "operation = Calculator(num1, num2)\n",
    "\n",
    "function = 1\n",
    "while function != 0:\n",
    "    print(\"0. Exit\")\n",
    "    print(\"1. Addition\")\n",
    "    print(\"2. Substraction\")\n",
    "    print(\"3. Multiplication\")\n",
    "    print(\"4. Division\")\n",
    "    function = int(input(\"Enter your function: \"))\n",
    "    if function == 1:\n",
    "        num3 = operation.add()\n",
    "        print(\"Result: \", num3)\n",
    "    elif function == 2:\n",
    "        num3 = operation.sub()\n",
    "        print(\"Result: \", num3)\n",
    "    elif function == 3:\n",
    "        num3 = operation.mul()\n",
    "        print(\"Result: \", num3)\n",
    "    elif function == 4:\n",
    "        num3 = operation.div()\n",
    "        print(\"Result: \", num3)\n",
    "    elif function == 0:\n",
    "        print(\"Exiting!\")\n",
    "    else:\n",
    "        print(\"Invalid choice!!\")\n",
    "\n",
    "print(\"New number after performing operation\", num3)\n"
   ]
  },
  {
   "cell_type": "markdown",
   "metadata": {},
   "source": [
    "Solution-2.2"
   ]
  },
  {
   "cell_type": "code",
   "execution_count": 3,
   "metadata": {},
   "outputs": [
    {
     "name": "stdout",
     "output_type": "stream",
     "text": [
      "Enter First Number: 12\n",
      "Enter Second Number: 12\n",
      "Enter which operation would you like to perform?\n",
      "Enter the name of the specific operation 'add,sub,div,mul': ADD\n",
      "Addition of two number is:  24\n"
     ]
    }
   ],
   "source": [
    "class Calculator():\n",
    "\n",
    "    def execute_command(self, num1, num2, command):\n",
    "        self.num1 = num1\n",
    "        self.num2 = num2\n",
    "        self.command = command\n",
    "\n",
    "    num1 = int(input(\"Enter First Number: \"))\n",
    "    num2 = int(input(\"Enter Second Number: \"))\n",
    "\n",
    "    print(\"Enter which operation would you like to perform?\")\n",
    "    command = input(\"Enter the name of the specific operation 'add,sub,div,mul': \")\n",
    "\n",
    "    result = 0\n",
    "    if command.casefold() == 'add'.casefold():\n",
    "        result = num1 + num2\n",
    "        print(\"Addition of two number is: \", result)\n",
    "\n",
    "    elif command.casefold() == 'sub'.casefold():\n",
    "        result = num1 - num2\n",
    "        print(\"Subtraction of two number is: \", result)\n",
    "\n",
    "    elif command.casefold() == 'mul'.casefold():\n",
    "        result = num1 * num2\n",
    "        print(\"Multiplication of two number is: \", result)\n",
    "\n",
    "    elif command.casefold() == 'div'.casefold():\n",
    "        result = num1 / num2\n",
    "        print(\"Division of two number is: \", result)\n",
    "\n",
    "    else:\n",
    "        print(\"Input character is not valid\")\n",
    "\n",
    "\n",
    "\n"
   ]
  }
 ],
 "metadata": {
  "kernelspec": {
   "display_name": "Python 3",
   "language": "python",
   "name": "python3"
  },
  "language_info": {
   "codemirror_mode": {
    "name": "ipython",
    "version": 3
   },
   "file_extension": ".py",
   "mimetype": "text/x-python",
   "name": "python",
   "nbconvert_exporter": "python",
   "pygments_lexer": "ipython3",
   "version": "3.8.3"
  }
 },
 "nbformat": 4,
 "nbformat_minor": 4
}
