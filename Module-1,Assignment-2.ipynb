{
 "cells": [
  {
   "cell_type": "markdown",
   "metadata": {},
   "source": [
    "# Program-1"
   ]
  },
  {
   "cell_type": "code",
   "execution_count": 1,
   "metadata": {},
   "outputs": [
    {
     "name": "stdout",
     "output_type": "stream",
     "text": [
      "(10, 20, 30, 40, 50, 60)\n"
     ]
    }
   ],
   "source": [
    "# concatenation of two tuple\n",
    "tupe_1 = (10,20,30)\n",
    "tupe_2 = (40,50,60)\n",
    "t_combine = tupe_1+tupe_2\n",
    "print(t_combine)"
   ]
  },
  {
   "cell_type": "code",
   "execution_count": 2,
   "metadata": {},
   "outputs": [
    {
     "name": "stdout",
     "output_type": "stream",
     "text": [
      "(10, 20, 30, 40, 50, 60, 10, 20, 30, 40, 50, 60, 10, 20, 30, 40, 50, 60)\n"
     ]
    }
   ],
   "source": [
    "# Repeating tuple 3times\n",
    "print(t_combine*3)"
   ]
  },
  {
   "cell_type": "code",
   "execution_count": 3,
   "metadata": {},
   "outputs": [
    {
     "data": {
      "text/plain": [
       "30"
      ]
     },
     "execution_count": 3,
     "metadata": {},
     "output_type": "execute_result"
    }
   ],
   "source": [
    "# Accessing third element of t_combine\n",
    "t_combine[2]"
   ]
  },
  {
   "cell_type": "code",
   "execution_count": 4,
   "metadata": {},
   "outputs": [
    {
     "data": {
      "text/plain": [
       "(10, 20, 30)"
      ]
     },
     "execution_count": 4,
     "metadata": {},
     "output_type": "execute_result"
    }
   ],
   "source": [
    "# Accessing firts three elements of t_combine\n",
    "t_combine[0:3]"
   ]
  },
  {
   "cell_type": "code",
   "execution_count": 5,
   "metadata": {},
   "outputs": [
    {
     "data": {
      "text/plain": [
       "(40, 50, 60)"
      ]
     },
     "execution_count": 5,
     "metadata": {},
     "output_type": "execute_result"
    }
   ],
   "source": [
    "# Accessing last three elements of T_combine\n",
    "#t_combine[-4:-1]\n",
    "t_combine[3:]"
   ]
  },
  {
   "cell_type": "code",
   "execution_count": 10,
   "metadata": {},
   "outputs": [
    {
     "data": {
      "text/plain": [
       "(40, 50, 60)"
      ]
     },
     "execution_count": 10,
     "metadata": {},
     "output_type": "execute_result"
    }
   ],
   "source": [
    "# Accessing last three elements of T_combine using negative indexing\n",
    "t_combine[-3:]"
   ]
  },
  {
   "cell_type": "markdown",
   "metadata": {},
   "source": [
    "# Program-2"
   ]
  },
  {
   "cell_type": "code",
   "execution_count": 18,
   "metadata": {},
   "outputs": [
    {
     "name": "stdout",
     "output_type": "stream",
     "text": [
      "First element of my_list is:  [(1, 2, 3)]\n"
     ]
    }
   ],
   "source": [
    "#Creating first element of list\n",
    "tupe = (1,2,3)\n",
    "my_list = []\n",
    "my_list.insert(0,tupe)\n",
    "print(\"First element of my_list is: \",my_list)"
   ]
  },
  {
   "cell_type": "code",
   "execution_count": 20,
   "metadata": {},
   "outputs": [
    {
     "name": "stdout",
     "output_type": "stream",
     "text": [
      "First two element of my_list is:  [(1, 2, 3), ('a', 'b', 'c')]\n"
     ]
    }
   ],
   "source": [
    "#Creating secong element of list\n",
    "tupe2 = (\"a\",\"b\",\"c\")\n",
    "my_list.insert(1,tupe2)\n",
    "print(\"First two element of my_list is: \",my_list)"
   ]
  },
  {
   "cell_type": "code",
   "execution_count": 22,
   "metadata": {},
   "outputs": [
    {
     "name": "stdout",
     "output_type": "stream",
     "text": [
      "First three element of my_list is:  [(1, 2, 3), ('a', 'b', 'c'), (True, False), ('True', 'False')]\n"
     ]
    }
   ],
   "source": [
    "#Creating third element of list\n",
    "tupe3 = (True,False)\n",
    "my_list.insert(2,tupe3)\n",
    "print(\"First three element of my_list is: \",my_list)"
   ]
  },
  {
   "cell_type": "markdown",
   "metadata": {},
   "source": [
    "# Program-3"
   ]
  },
  {
   "cell_type": "code",
   "execution_count": 24,
   "metadata": {},
   "outputs": [
    {
     "name": "stdout",
     "output_type": "stream",
     "text": [
      "[(1, 2, 3), ('a', 'b', 'c'), (True, False), ('True', 'False'), (1, 'a', True)]\n"
     ]
    }
   ],
   "source": [
    "# Appending new tuple in my_list\n",
    "tupe4 = (1,'a',True)\n",
    "my_list.append(tupe4)\n",
    "print(my_list)"
   ]
  },
  {
   "cell_type": "code",
   "execution_count": 25,
   "metadata": {},
   "outputs": [
    {
     "name": "stdout",
     "output_type": "stream",
     "text": [
      "[(1, 2, 3), ('a', 'b', 'c'), (True, False), ('True', 'False'), (1, 'a', True), ('sparta', 123)]\n"
     ]
    }
   ],
   "source": [
    "# Appending new tuple in my_list\n",
    "tupe5 = (\"sparta\",123)\n",
    "my_list.append(tupe5)\n",
    "print(my_list)"
   ]
  },
  {
   "cell_type": "markdown",
   "metadata": {},
   "source": [
    "# Program-4"
   ]
  },
  {
   "cell_type": "code",
   "execution_count": 39,
   "metadata": {},
   "outputs": [
    {
     "name": "stdout",
     "output_type": "stream",
     "text": [
      "{'Fruit': ('Apple', 'Banana', 'Mango', 'Guava'), 'Cost': (85, 54, 120, 70)}\n"
     ]
    }
   ],
   "source": [
    "# Creating first and second element of dictionary\n",
    "fruit = {\n",
    "    'Fruit': ('Apple','Banana','Mango','Guava'),\n",
    "    'Cost':(85,54,120,70)\n",
    "}\n",
    "print(fruit)"
   ]
  },
  {
   "cell_type": "code",
   "execution_count": 40,
   "metadata": {},
   "outputs": [
    {
     "data": {
      "text/plain": [
       "dict_keys(['Fruit', 'Cost'])"
      ]
     },
     "execution_count": 40,
     "metadata": {},
     "output_type": "execute_result"
    }
   ],
   "source": [
    "# Extrat all keys from fruit\n",
    "fruit.keys()"
   ]
  },
  {
   "cell_type": "code",
   "execution_count": 41,
   "metadata": {},
   "outputs": [
    {
     "data": {
      "text/plain": [
       "dict_values([('Apple', 'Banana', 'Mango', 'Guava'), (85, 54, 120, 70)])"
      ]
     },
     "execution_count": 41,
     "metadata": {},
     "output_type": "execute_result"
    }
   ],
   "source": [
    "# Extract all values from fruit\n",
    "fruit.values()"
   ]
  },
  {
   "cell_type": "markdown",
   "metadata": {},
   "source": [
    "# Program-5"
   ]
  },
  {
   "cell_type": "code",
   "execution_count": 42,
   "metadata": {},
   "outputs": [
    {
     "name": "stdout",
     "output_type": "stream",
     "text": [
      "{1, 'a'}\n"
     ]
    }
   ],
   "source": [
    "# Creating set\n",
    "my_set = {1,1,\"a\",\"a\",True,True}\n",
    "print(my_set)"
   ]
  },
  {
   "cell_type": "code",
   "execution_count": null,
   "metadata": {},
   "outputs": [],
   "source": []
  }
 ],
 "metadata": {
  "kernelspec": {
   "display_name": "Python 3",
   "language": "python",
   "name": "python3"
  },
  "language_info": {
   "codemirror_mode": {
    "name": "ipython",
    "version": 3
   },
   "file_extension": ".py",
   "mimetype": "text/x-python",
   "name": "python",
   "nbconvert_exporter": "python",
   "pygments_lexer": "ipython3",
   "version": "3.8.3"
  }
 },
 "nbformat": 4,
 "nbformat_minor": 4
}
