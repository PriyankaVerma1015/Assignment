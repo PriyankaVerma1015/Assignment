{
 "cells": [
  {
   "cell_type": "markdown",
   "metadata": {},
   "source": [
    "# Creating a list of numbers that are squares of num from 1 to 10"
   ]
  },
  {
   "cell_type": "markdown",
   "metadata": {},
   "source": [
    "Here an \"input\" fuction is used so that user can get desired number of list. \n",
    "In this program \"printvalue\" function is created, inside it a for loop is used which run from  the starting range to end plus 1 range.\n",
    "To create the desired list of squares of number, append is used."
   ]
  },
  {
   "cell_type": "code",
   "execution_count": 1,
   "metadata": {},
   "outputs": [
    {
     "name": "stdout",
     "output_type": "stream",
     "text": [
      "Enter the starting range: 1\n",
      "Enter the end range: 10\n",
      "List of perfect square from 1 to 10 is: [1, 4, 9, 16, 25, 36, 49, 64, 81, 100]\n"
     ]
    }
   ],
   "source": [
    "start = int(input(\"Enter the starting range: \"))\n",
    "end = int(input(\"Enter the end range: \"))\n",
    "l = list()\n",
    "def printvalues():\n",
    "\n",
    "    for i in range(start, end + 1):\n",
    "        l.append(i**2)\n",
    "    print(\"List of perfect square from\", start ,\"to\", end, \"is:\", l)\n",
    "printvalues()"
   ]
  },
  {
   "cell_type": "markdown",
   "metadata": {},
   "source": [
    "# Function to check given year is a leap year or not"
   ]
  },
  {
   "cell_type": "markdown",
   "metadata": {},
   "source": [
    "Method 1"
   ]
  },
  {
   "cell_type": "code",
   "execution_count": 2,
   "metadata": {},
   "outputs": [
    {
     "name": "stdout",
     "output_type": "stream",
     "text": [
      "Enter the year: 1220\n",
      "Year is leap year\n"
     ]
    }
   ],
   "source": [
    "year = int(input(\"Enter the year: \"))\n",
    "if year%4 ==0:\n",
    "    print(\"Year is leap year\")\n",
    "else:\n",
    "    print(\"Year is not leap year\")"
   ]
  },
  {
   "cell_type": "markdown",
   "metadata": {},
   "source": [
    "Method 2: Using Function"
   ]
  },
  {
   "cell_type": "code",
   "execution_count": 3,
   "metadata": {},
   "outputs": [
    {
     "name": "stdout",
     "output_type": "stream",
     "text": [
      "Enter the year: 1996\n",
      "Year is leap year\n"
     ]
    }
   ],
   "source": [
    "def printYear():\n",
    "    year = int(input(\"Enter the year: \"))\n",
    "    if year % 4 == 0:\n",
    "        print(\"Year is leap year\")\n",
    "    else:\n",
    "        print(\"Year is not leap year\")\n",
    "printYear()"
   ]
  },
  {
   "cell_type": "markdown",
   "metadata": {},
   "source": [
    "# Generate a list of even number"
   ]
  },
  {
   "cell_type": "code",
   "execution_count": 4,
   "metadata": {},
   "outputs": [
    {
     "name": "stdout",
     "output_type": "stream",
     "text": [
      "Enter the starting range: 1\n",
      "Enter the ending range: 12\n",
      "[2, 4, 6, 8, 10, 12]\n"
     ]
    }
   ],
   "source": [
    "s = int(input(\"Enter the starting range: \"))\n",
    "e = int(input(\"Enter the ending range: \"))\n",
    "def Even_Numbers():\n",
    "    l = []\n",
    "    for i in range(s, e+1):\n",
    "        if i%2==0:\n",
    "            l.append(i)\n",
    "        else:\n",
    "             pass\n",
    "\n",
    "    print(l)\n",
    "Even_Numbers()"
   ]
  },
  {
   "cell_type": "markdown",
   "metadata": {},
   "source": [
    "# Intersection of two lists"
   ]
  },
  {
   "cell_type": "markdown",
   "metadata": {},
   "source": [
    "Firstly an input function is used for user to get the desired range of data.\n",
    "Next with the help of random funtion two lists are created of size 8 and 5.\n",
    "Lastly intersection is used to get insetersection between two lists."
   ]
  },
  {
   "cell_type": "code",
   "execution_count": 5,
   "metadata": {},
   "outputs": [
    {
     "name": "stdout",
     "output_type": "stream",
     "text": [
      "Enter the starting range: 10\n",
      "Enter the ending range: 20\n",
      "[19, 11, 16, 17, 18, 12, 10, 14]\n",
      "[12, 16, 15, 13, 14]\n",
      "[16, 12, 14]\n"
     ]
    }
   ],
   "source": [
    "s = int(input(\"Enter the starting range: \"))\n",
    "e = int(input(\"Enter the ending range: \"))\n",
    "import random\n",
    "list_1 = random.sample(range(s,e),8)\n",
    "print(list_1)\n",
    "list_2 = random.sample(range(s,e),5)\n",
    "print(list_2)\n",
    "list_1_as_set = set(list_1)\n",
    "intersection = list_1_as_set.intersection(list_2)\n",
    "intersection_as_list = list(intersection)\n",
    "\n",
    "print(intersection_as_list)\n"
   ]
  },
  {
   "cell_type": "code",
   "execution_count": null,
   "metadata": {},
   "outputs": [],
   "source": []
  }
 ],
 "metadata": {
  "kernelspec": {
   "display_name": "Python 3",
   "language": "python",
   "name": "python3"
  },
  "language_info": {
   "codemirror_mode": {
    "name": "ipython",
    "version": 3
   },
   "file_extension": ".py",
   "mimetype": "text/x-python",
   "name": "python",
   "nbconvert_exporter": "python",
   "pygments_lexer": "ipython3",
   "version": "3.8.3"
  }
 },
 "nbformat": 4,
 "nbformat_minor": 4
}
