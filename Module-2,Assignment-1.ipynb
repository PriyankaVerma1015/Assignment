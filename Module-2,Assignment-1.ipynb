{
 "cells": [
  {
   "cell_type": "markdown",
   "metadata": {},
   "source": [
    "Creating Employee class and printing name and salary of employee"
   ]
  },
  {
   "cell_type": "code",
   "execution_count": 1,
   "metadata": {},
   "outputs": [
    {
     "name": "stdout",
     "output_type": "stream",
     "text": [
      "Enter the employee name: Priyanka\n",
      "Enter the employee salary: 30000\n",
      "employee_name: Priyanka and employee_salary: 30000\n"
     ]
    }
   ],
   "source": [
    "name = input(\"Enter the employee name: \")\n",
    "salary = int(input(\"Enter the employee salary: \"))\n",
    "class Employee:\n",
    "    def __init__(self, name, salary):\n",
    "        self.name = name\n",
    "        self.salary = salary\n",
    "        \n",
    "    def __str__(self):\n",
    "        return \"employee_name: {self.name} and employee_salary: {self.salary}\".format(self=self)\n",
    "\n",
    "\n",
    "employee = Employee(name, salary)\n",
    "print(str(employee))"
   ]
  },
  {
   "cell_type": "markdown",
   "metadata": {},
   "source": [
    "Calculator"
   ]
  },
  {
   "cell_type": "code",
   "execution_count": null,
   "metadata": {},
   "outputs": [],
   "source": [
    "num1 = float(input(\"Enter the number\"))\n",
    "num2 = float(input(\"Enter the number\"))\n",
    "\n",
    "class Calculator:\n",
    "    def __init__(self, num1, num2):\n",
    "        self.num1 = num1\n",
    "        self.num2 = num2\n",
    "    def add(self):\n",
    "        return self.num1+self.num2\n",
    "    def sub(self):\n",
    "        return self.num1-self.num2\n",
    "    def mul(self):\n",
    "        return self.num1*self.num2\n",
    "    def div(self):\n",
    "        return self.num1/self.num2\n",
    "    \n",
    "operation = Calculator(num1, num2)\n",
    "\n",
    "function = 1\n",
    "while function!=0:\n",
    "    print(\"0. Exit\")\n",
    "    print(\"1. Addition\")\n",
    "    print(\"2. Substraction\")\n",
    "    print(\"3. Multiplication\")\n",
    "    print(\"4. Division\")\n",
    "    function = int(input(\"Enter your function: \"))\n",
    "    if function==1:\n",
    "        print(\"Result: \",operation.add())\n",
    "    elif function==2:\n",
    "        print(\"Result: \",operation.sub())\n",
    "    elif function==3:\n",
    "        print(\"Result: \",operation.mul())\n",
    "    elif function==4:\n",
    "        print(\"Result: \",operation.div(),2)\n",
    "    elif function==0:\n",
    "        print(\"Exiting!\")\n",
    "    else:\n",
    "        print(\"Invalid choice!!\")\n",
    " \n",
    " \n",
    "print()\n"
   ]
  },
  {
   "cell_type": "code",
   "execution_count": null,
   "metadata": {},
   "outputs": [],
   "source": []
  }
 ],
 "metadata": {
  "kernelspec": {
   "display_name": "Python 3",
   "language": "python",
   "name": "python3"
  },
  "language_info": {
   "codemirror_mode": {
    "name": "ipython",
    "version": 3
   },
   "file_extension": ".py",
   "mimetype": "text/x-python",
   "name": "python",
   "nbconvert_exporter": "python",
   "pygments_lexer": "ipython3",
   "version": "3.8.3"
  }
 },
 "nbformat": 4,
 "nbformat_minor": 4
}
