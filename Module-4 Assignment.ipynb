{
 "cells": [
  {
   "cell_type": "code",
   "execution_count": 1,
   "metadata": {},
   "outputs": [],
   "source": [
    "import numpy as np"
   ]
  },
  {
   "cell_type": "markdown",
   "metadata": {},
   "source": [
    "Function that takes dimensions as tuples and returns a\n",
    "Numpy array of the given dimension filled with the given value"
   ]
  },
  {
   "cell_type": "code",
   "execution_count": 2,
   "metadata": {},
   "outputs": [
    {
     "name": "stdout",
     "output_type": "stream",
     "text": [
      "3\n",
      "3\n",
      "5\n",
      "[[5 5 5]\n",
      " [5 5 5]\n",
      " [5 5 5]]\n"
     ]
    }
   ],
   "source": [
    "def fun(a,b,c):\n",
    "    d=np.full((a,b),c)\n",
    "    return d\n",
    "a=int(input())\n",
    "b=int(input())\n",
    "c=int(input()) \n",
    "print(fun(a,b,c))"
   ]
  },
  {
   "cell_type": "markdown",
   "metadata": {},
   "source": [
    "Method that takes n Numpy arrays of same dimensions sums them and return the answer."
   ]
  },
  {
   "cell_type": "code",
   "execution_count": 3,
   "metadata": {},
   "outputs": [
    {
     "data": {
      "text/plain": [
       "array([50, 70, 90])"
      ]
     },
     "execution_count": 3,
     "metadata": {},
     "output_type": "execute_result"
    }
   ],
   "source": [
    "def math(a,b):\n",
    "    sum1 = a+b\n",
    "    return sum1\n",
    "\n",
    "\n",
    "a=np.array([10,20,30])\n",
    "b=np.array([40,50,60])\n",
    "math(a,b)"
   ]
  },
  {
   "cell_type": "markdown",
   "metadata": {},
   "source": [
    "The method to return the top-left N X M sub matrix"
   ]
  },
  {
   "cell_type": "code",
   "execution_count": 4,
   "metadata": {},
   "outputs": [
    {
     "name": "stdout",
     "output_type": "stream",
     "text": [
      "The top-left matrix is: \n",
      " [[1 2]\n",
      " [4 5]]\n"
     ]
    }
   ],
   "source": [
    "def math1(a):\n",
    "    return a[:2,:2]\n",
    "a=np.array([[1,2,3],[4,5,6],[7,8,9]])\n",
    "print(\"The top-left matrix is: \\n\",math1(a))"
   ]
  },
  {
   "cell_type": "markdown",
   "metadata": {},
   "source": [
    "The method to return the bottom-right N X M sub matrix"
   ]
  },
  {
   "cell_type": "code",
   "execution_count": 5,
   "metadata": {},
   "outputs": [
    {
     "name": "stdout",
     "output_type": "stream",
     "text": [
      "The bottom-right matrix is: \n",
      " [[5 6]\n",
      " [8 9]]\n"
     ]
    }
   ],
   "source": [
    "def math1(a):\n",
    "    return a[1:,1:]\n",
    "a=np.array([[1,2,3],[4,5,6],[7,8,9]])\n",
    "print(\"The bottom-right matrix is: \\n\",math1(a))"
   ]
  },
  {
   "cell_type": "markdown",
   "metadata": {},
   "source": [
    "The method to return a dictionary with 'mean' and 'std_dev' as key and array's mean and array's\n",
    "standard deviation as values:"
   ]
  },
  {
   "cell_type": "code",
   "execution_count": 6,
   "metadata": {},
   "outputs": [
    {
     "data": {
      "text/plain": [
       "{'mean': 2.0, 'std': 0.816496580927726}"
      ]
     },
     "execution_count": 6,
     "metadata": {},
     "output_type": "execute_result"
    }
   ],
   "source": [
    "def math2(a):\n",
    "    b= np.mean(a)\n",
    "    c=np.std(a)\n",
    "    dict1={\"mean\":b,\"std\":c}\n",
    "    return dict1\n",
    "\n",
    "\n",
    "a = np.array([1,2,3])\n",
    "math2(a)"
   ]
  },
  {
   "cell_type": "code",
   "execution_count": null,
   "metadata": {},
   "outputs": [],
   "source": []
  }
 ],
 "metadata": {
  "kernelspec": {
   "display_name": "Python 3",
   "language": "python",
   "name": "python3"
  },
  "language_info": {
   "codemirror_mode": {
    "name": "ipython",
    "version": 3
   },
   "file_extension": ".py",
   "mimetype": "text/x-python",
   "name": "python",
   "nbconvert_exporter": "python",
   "pygments_lexer": "ipython3",
   "version": "3.8.3"
  }
 },
 "nbformat": 4,
 "nbformat_minor": 4
}
